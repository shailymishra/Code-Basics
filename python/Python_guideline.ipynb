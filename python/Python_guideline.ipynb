{
 "cells": [
  {
   "cell_type": "code",
   "execution_count": 2,
   "metadata": {},
   "outputs": [],
   "source": [
    "import numpy as np"
   ]
  },
  {
   "cell_type": "code",
   "execution_count": 2,
   "metadata": {},
   "outputs": [
    {
     "name": "stdout",
     "output_type": "stream",
     "text": [
      "{'5_o_Clock_Shadow': 0, 'Arched_Eyebrows': 1, 'Attractive': 2, 'Bags_Under_Eyes': 3, 'Bald': 4, 'Bangs': 5, 'Big_Lips': 6, 'Big_Nose': 7, 'Black_Hair': 8, 'Blond_Hair': 9, 'Blurry': 10, 'Brown_Hair': 11, 'Bushy_Eyebrows': 12, 'Chubby': 13, 'Double_Chin': 14, 'Eyeglasses': 15, 'Goatee': 16, 'Gray_Hair': 17, 'Heavy_Makeup': 18, 'High_Cheekbones': 19, 'Male': 20, 'Mouth_Slightly_Open': 21, 'Mustache': 22, 'Narrow_Eyes': 23, 'No_Beard': 24, 'Oval_Face': 25, 'Pale_Skin': 26, 'Pointy_Nose': 27, 'Receding_Hairline': 28, 'Rosy_Cheeks': 29, 'Sideburns': 30, 'Smiling': 31, 'Straight_Hair': 32, 'Wavy_Hair': 33, 'Wearing_Earrings': 34, 'Wearing_Hat': 35, 'Wearing_Lipstick': 36, 'Wearing_Necklace': 37, 'Wearing_Necktie': 38, 'Young': 39}\n"
     ]
    }
   ],
   "source": [
    "## (1) using enumerate\n",
    "\n",
    "attr_list = ['5_o_Clock_Shadow', 'Arched_Eyebrows', 'Attractive', 'Bags_Under_Eyes', 'Bald', 'Bangs', 'Big_Lips', 'Big_Nose', 'Black_Hair', 'Blond_Hair', 'Blurry', 'Brown_Hair', 'Bushy_Eyebrows', 'Chubby', 'Double_Chin', 'Eyeglasses', 'Goatee', 'Gray_Hair', 'Heavy_Makeup', 'High_Cheekbones', 'Male', 'Mouth_Slightly_Open', 'Mustache', 'Narrow_Eyes', 'No_Beard', 'Oval_Face', 'Pale_Skin', 'Pointy_Nose', 'Receding_Hairline', 'Rosy_Cheeks', 'Sideburns', 'Smiling', 'Straight_Hair', 'Wavy_Hair', 'Wearing_Earrings', 'Wearing_Hat', 'Wearing_Lipstick', 'Wearing_Necklace', 'Wearing_Necktie', 'Young']\n",
    "\n",
    "attr_idx_dict = {attr: i for i, attr in enumerate(attr_list)}\n",
    "print(attr_idx_dict)"
   ]
  },
  {
   "cell_type": "code",
   "execution_count": 5,
   "metadata": {},
   "outputs": [
    {
     "name": "stdout",
     "output_type": "stream",
     "text": [
      "I am Shaily\n",
      "['I', 'am', 'Shaily']\n"
     ]
    }
   ],
   "source": [
    "#### (2) Using strip and split\n",
    "line = \" I am Shaily \"\n",
    "print(line.strip())\n",
    "print(line.strip().split())"
   ]
  },
  {
   "cell_type": "code",
   "execution_count": 11,
   "metadata": {},
   "outputs": [
    {
     "name": "stdout",
     "output_type": "stream",
     "text": [
      "[ 1 -1  1 -1]\n",
      "[ 1 -1  1 -1]\n"
     ]
    }
   ],
   "source": [
    "### (3) Convert an array of string to int or float array to int\n",
    "arr = ['1','-1','1','-1']\n",
    "arr = np.array(arr).astype(int)\n",
    "print(arr)\n",
    "\n",
    "arr = [1.0,-1.0,1.2,-1.0]\n",
    "arr = np.array(arr).astype(int)\n",
    "print(arr)"
   ]
  },
  {
   "cell_type": "code",
   "execution_count": 1,
   "metadata": {},
   "outputs": [
    {
     "name": "stdout",
     "output_type": "stream",
     "text": [
      "{'lion': 'yellow', 'kitty': 'red'}\n"
     ]
    }
   ],
   "source": [
    "### (4) Using Pickle\n",
    "### WHy use pickle...need to read more about it\n",
    "import pickle\n",
    "favorite_color = { \"lion\": \"yellow\", \"kitty\": \"red\" }\n",
    "with open('savepickleproject.p', 'wb') as f:\n",
    "        pickle.dump(favorite_color, f)\n",
    "\n",
    "favorite_color_unload = pickle.load( open( \"savepickleproject.p\", \"rb\" ) )\n",
    "print(favorite_color_unload)"
   ]
  },
  {
   "cell_type": "code",
   "execution_count": 2,
   "metadata": {},
   "outputs": [
    {
     "name": "stdout",
     "output_type": "stream",
     "text": [
      "[1, 2, 3, 4, 5, 6, 7, 8, 9, 10, 11, 12, 13, 14, 15, 17, 18, 19, 20, 22, 23, 24, 25, 26, 27, 28, 30, 31, 32, 33, 34, 35, 36, 38]\n"
     ]
    }
   ],
   "source": [
    "### (5) can also work in sets\n",
    "subclass_idx = list(set(range(39)) - {0,16,21,29,37})\n",
    "print(subclass_idx)"
   ]
  },
  {
   "cell_type": "code",
   "execution_count": 7,
   "metadata": {},
   "outputs": [
    {
     "data": {
      "text/plain": [
       "_StoreAction(option_strings=['--varhavingintvalue'], dest='varhavingintvalue', nargs=None, const=None, default=0, type=<class 'int'>, choices=None, help=None, metavar=None)"
      ]
     },
     "execution_count": 7,
     "metadata": {},
     "output_type": "execute_result"
    }
   ],
   "source": [
    "### (6) Collecting arguments - using parser\n",
    "import argparse\n",
    "\n",
    "parser = argparse.ArgumentParser()\n",
    "\n",
    "parser.add_argument('--var11',\n",
    "                        choices=[ 'choice1','choice2'                        ])\n",
    "parser.add_argument('--varhavingstrvalue', type=str, default='defaultvalue')\n",
    "parser.add_argument('--varhavingintvalue', type=int, default=0)\n",
    "\n",
    "# opt = vars(parser.parse_args())\n",
    "# print(opt)\n",
    "# {'experiment': 'celeba_baseline', 'experiment_name': 'e1', 'cuda': True, 'random_seed': 1}\n"
   ]
  },
  {
   "cell_type": "code",
   "execution_count": 1,
   "metadata": {},
   "outputs": [],
   "source": [
    "### (7) Using Summary Writer\n"
   ]
  },
  {
   "cell_type": "code",
   "execution_count": 4,
   "metadata": {},
   "outputs": [
    {
     "name": "stdout",
     "output_type": "stream",
     "text": [
      "[array([0., 1., 2.]), array([3., 4.]), array([5., 6., 7.])]\n"
     ]
    }
   ],
   "source": [
    "#### (8) Split\n",
    "x = np.arange(8.0)\n",
    "print(np.split(x, [3, 5]))"
   ]
  },
  {
   "cell_type": "code",
   "execution_count": 1,
   "metadata": {},
   "outputs": [
    {
     "data": {
      "text/plain": [
       "'htyp'"
      ]
     },
     "execution_count": 1,
     "metadata": {},
     "output_type": "execute_result"
    }
   ],
   "source": [
    "### (9) Array Slicing\n",
    "\n",
    "#  +---+---+---+---+---+---+\n",
    "#  | P | y | t | h | o | n |\n",
    "#  +---+---+---+---+---+---+\n",
    "#  0   1   2   3   4   5   6\n",
    "# -6  -5  -4  -3  -2  -1\n",
    "a = \"python\"\n",
    "start = 0\n",
    "stop = len(a)\n",
    "step = 1\n",
    "\n",
    "a[start:stop]  # items start through stop-1\n",
    "a[start:]      # items start through the rest of the array\n",
    "a[:stop]       # items from the beginning through stop-1\n",
    "a[:]           # a copy of the whole array\n",
    "a[start:stop:step] # start through not past stop, by step\n",
    "a[-1]    # last item in the array\n",
    "a[-2:]   # last two items in the array\n",
    "a[:-2]   # everything except the last two items\n",
    "a[::-1]    # all items in the array, reversed\n",
    "a[1::-1]   # the first two items, reversed\n",
    "a[:-3:-1]  # the last two items, reversed\n",
    "a[-3::-1]  # everything except the last two items, reversed"
   ]
  },
  {
   "cell_type": "code",
   "execution_count": 6,
   "metadata": {},
   "outputs": [],
   "source": [
    "#### (10) Read from pd - csv file"
   ]
  },
  {
   "cell_type": "code",
   "execution_count": 12,
   "metadata": {},
   "outputs": [
    {
     "name": "stdout",
     "output_type": "stream",
     "text": [
      "[[ 3.34152678  4.50415125]\n",
      " [ 3.13943753  4.42023136]\n",
      " [ 4.19572104  4.33668307]\n",
      " [ 2.52389828  4.28677199]\n",
      " [-3.13177091  0.80921212]]\n",
      "(5, 2)\n",
      "(5,)\n",
      "(5,)\n",
      "(5,)\n"
     ]
    },
    {
     "data": {
      "image/png": "[encoded data removed]",
      "text/plain": [
       "<Figure size 432x288 with 1 Axes>"
      ]
     },
     "metadata": {
      "needs_background": "light"
     },
     "output_type": "display_data"
    }
   ],
   "source": [
    "### (11) Numpy Array accessing, which will be required esp in plotting\n",
    "import numpy as np\n",
    "import matplotlib.pyplot as plt # for plotting stuff\n",
    "\n",
    "X = np.array(\n",
    "    [[ 3.34152678,  4.50415125],\n",
    "     [ 3.13943753 , 4.42023136],\n",
    "     [ 4.19572104 , 4.33668307],\n",
    "     [ 2.52389828 , 4.28677199],\n",
    "     [-3.13177091 , 0.80921212]\n",
    "    ])\n",
    "\n",
    "print(X)\n",
    "\n",
    "print(X.shape)\n",
    "print(X[:,0].shape)\n",
    "print(X[:,1].shape)\n",
    "\n",
    "print(X.T[0].shape)\n",
    "\n",
    "plt.plot(X[:,0], X[:,1]  , 'x', color=\"red\")\n",
    "plt.show()"
   ]
  },
  {
   "cell_type": "code",
   "execution_count": 25,
   "metadata": {},
   "outputs": [
    {
     "name": "stdout",
     "output_type": "stream",
     "text": [
      "[2, 1, 0, 3]\n",
      "[2 4 3 4]\n"
     ]
    }
   ],
   "source": [
    "### (12) Shuffling list - perm\n",
    "\n",
    "from random import shuffle\n",
    "\n",
    "X = np.array([3,4,2,4])\n",
    "y = np.array([-1,-1,1,1])\n",
    "number = 2\n",
    "perm = list(range(0,number*2))\n",
    "shuffle(perm)\n",
    "print(perm)\n",
    "X = X[perm]  ## Only works with numpy arrays\n",
    "y = y[perm]\n",
    "print(X)"
   ]
  },
  {
   "cell_type": "code",
   "execution_count": 7,
   "metadata": {},
   "outputs": [
    {
     "name": "stdout",
     "output_type": "stream",
     "text": [
      "Initial Objective: 16.0\n",
      "Final Objective: 16.84920510861777\n",
      "Solution\n",
      "x1 = 0.7545088792386094\n",
      "x2 = 4.639368330171939\n",
      "x3 = 3.7885695027779227\n",
      "x4 = 1.885131024994008\n"
     ]
    }
   ],
   "source": [
    "import numpy as np\n",
    "from scipy.optimize import minimize\n",
    "\n",
    "def objective(x):\n",
    "    return x[0]*x[3]*(x[0]+x[1]+x[2])+x[2]\n",
    "\n",
    "def constraint1(x):\n",
    "    return x[0]*x[1]*x[2]*x[3]-25.0\n",
    "\n",
    "def constraint2(x):\n",
    "    sum_eq = 40.0\n",
    "    for i in range(4):\n",
    "        sum_eq = sum_eq - x[i]**2\n",
    "    return sum_eq\n",
    "\n",
    "# initial guesses\n",
    "n = 4\n",
    "x0 = np.zeros(n)\n",
    "x0[0] = 1.0\n",
    "x0[1] = 5.0\n",
    "x0[2] = 5.0\n",
    "x0[3] = 1.0\n",
    "\n",
    "# show initial objective\n",
    "print('Initial Objective: ' + str(objective(x0)))\n",
    "\n",
    "# optimize\n",
    "b = (1.0,2.0)\n",
    "bnds = (b, b, b, b)\n",
    "con1 = {'type': 'ineq', 'fun': constraint1}\n",
    "con2 = {'type': 'eq', 'fun': constraint2}\n",
    "cons = ([con1,con2])\n",
    "solution = minimize(objective,x0,method='SLSQP',\n",
    "                    constraints=cons)\n",
    "x = solution.x\n",
    "\n",
    "# show final objective\n",
    "print('Final Objective: ' + str(objective(x)))\n",
    "\n",
    "# print solution\n",
    "print('Solution')\n",
    "print('x1 = ' + str(x[0]))\n",
    "print('x2 = ' + str(x[1]))\n",
    "print('x3 = ' + str(x[2]))\n",
    "print('x4 = ' + str(x[3]))"
   ]
  },
  {
   "cell_type": "code",
   "execution_count": 8,
   "metadata": {},
   "outputs": [
    {
     "data": {
      "image/png": "[encoded data removed]",
      "text/plain": [
       "<Figure size 432x288 with 1 Axes>"
      ]
     },
     "metadata": {
      "needs_background": "light"
     },
     "output_type": "display_data"
    }
   ],
   "source": [
    "### (13) Plot a line\n",
    "import matplotlib.pyplot as plt\n",
    "import numpy as np\n",
    "x = np.linspace(-5,5,100)\n",
    "y = 2*x+1\n",
    "\n",
    "## Variable label\n",
    "\n",
    "label='y=2x+1' \n",
    "\n",
    "plt.plot(x, y, '-r',   label = \"Line {} \".format(label)  )\n",
    "plt.title('Graph of y=2x+1')\n",
    "plt.xlabel('x', color='#1C2833')\n",
    "plt.ylabel('y', color='#1C2833')\n",
    "plt.legend(loc='upper left')\n",
    "plt.grid()\n",
    "plt.show()"
   ]
  },
  {
   "cell_type": "code",
   "execution_count": 2,
   "metadata": {},
   "outputs": [
    {
     "name": "stdout",
     "output_type": "stream",
     "text": [
      "[1, 2, 3, [4, 5]]\n",
      "[1, 2, 3, 4, 5]\n"
     ]
    }
   ],
   "source": [
    "### (14) Extend and Append in list\n",
    "x = [1, 2, 3]\n",
    "x.append([4, 5])\n",
    "print (x)\n",
    "\n",
    "x = [1, 2, 3]\n",
    "x.extend([4, 5])\n",
    "print (x)"
   ]
  },
  {
   "cell_type": "code",
   "execution_count": 7,
   "metadata": {},
   "outputs": [
    {
     "name": "stdout",
     "output_type": "stream",
     "text": [
      "[[1.0, 2.0, 3.0, 4.0], [5.0, 6.0, 7.0, 8.0], [9.0, 10.0, 11.0, 12.0]]\n",
      "tensor([[ 1.,  2.,  3.,  4.],\n",
      "        [ 5.,  6.,  7.,  8.],\n",
      "        [ 9., 10., 11., 12.]])\n",
      "___________________________________________________________\n",
      "[1, 2, 3]\n"
     ]
    }
   ],
   "source": [
    "### (15) Conversion between list, numpy, tensor\n",
    "\n",
    "import torch\n",
    "py_list = [[1.,2.,3.,4.],[5.,6.,7.,8.],[9.,10.,11.,12.]]\n",
    "print(py_list)\n",
    "pt_tensor_from_list = torch.FloatTensor(py_list)\n",
    "print(pt_tensor_from_list)\n",
    "\n",
    "print('___________________________________________________________')\n",
    "import numpy as np \n",
    "x = [1,2,3] \n",
    "a = np.asarray(x) \n",
    "print(x)\n",
    "\n",
    "## to convert list of tensors all same size to tensor\n",
    "##       allocationarr = torch.stack(allocationarr) "
   ]
  },
  {
   "cell_type": "code",
   "execution_count": 11,
   "metadata": {},
   "outputs": [],
   "source": [
    "### (16) Split in train and test\n",
    "## https://stackoverflow.com/questions/3674409/how-to-split-partition-a-dataset-into-training-and-test-datasets-for-e-g-cros\n",
    "import numpy\n",
    "# x is your dataset (shuffling whole dataset not such a good idea)\n",
    "x = numpy.random.rand(10,2)\n",
    "numpy.random.shuffle(x)\n",
    "training, test = x[:8,:], x[8:,:]\n",
    "\n",
    "### or (better method)\n",
    "x = numpy.random.rand(10, 2)\n",
    "indices = numpy.random.permutation(x.shape[0])\n",
    "training_idx, test_idx = indices[:8], indices[8:]\n",
    "training, test = x[training_idx,:], x[test_idx,:]"
   ]
  },
  {
   "cell_type": "code",
   "execution_count": 5,
   "metadata": {},
   "outputs": [
    {
     "name": "stdout",
     "output_type": "stream",
     "text": [
      "[ 3  1 10  6  4  2  7  8]\n",
      "________vstack_______________\n",
      "[[1 2 3]\n",
      " [5 7 9]]\n",
      "___________hstack____________\n",
      "[1 2 3 5 7 9]\n",
      "___________dstack____________\n",
      "[[[1 5]\n",
      "  [2 7]\n",
      "  [3 9]]]\n",
      "________vstack_______________\n",
      "[[1]\n",
      " [2]\n",
      " [3]\n",
      " [5]\n",
      " [7]\n",
      " [9]]\n",
      "___________hstack____________\n",
      "[[1 5]\n",
      " [2 7]\n",
      " [3 9]]\n",
      "___________dstack____________\n",
      "[[[1 5]]\n",
      "\n",
      " [[2 7]]\n",
      "\n",
      " [[3 9]]]\n",
      "[[2 3]\n",
      " [4 5]\n",
      " [6 7]]\n"
     ]
    }
   ],
   "source": [
    "## (17) Playing around with numpy arrays\n",
    "\n",
    "import numpy as np\n",
    "x = np.array([1,2,3,4,5,6,7,8,9,10])\n",
    "indices = np.array([2, 0, 9 ,5 ,3 ,1 ,6, 7])\n",
    "filterx = x[indices,]\n",
    "print(filterx)\n",
    "\n",
    "\n",
    "# https://www.w3resource.com/numpy/manipulation/hstack.php\n",
    "import numpy as np\n",
    "x = np.array([1, 2, 3])\n",
    "y = np.array([5, 7, 9])\n",
    "z1 = np.vstack((x,y))\n",
    "z2 = np.hstack((x,y))\n",
    "z3 = np.dstack((x,y))\n",
    "print('________vstack_______________')\n",
    "print(z1)\n",
    "print('___________hstack____________')\n",
    "print(z2)\n",
    "print('___________dstack____________')\n",
    "print(z3)\n",
    "\n",
    "\n",
    "x = np.array([[1], [2], [3]])\n",
    "y = np.array([[5], [7], [9]])\n",
    "z1 = np.vstack((x,y))\n",
    "z2 = np.hstack((x,y))\n",
    "z3 = np.dstack((x,y))\n",
    "\n",
    "print('________vstack_______________')\n",
    "print(z1)\n",
    "print('___________hstack____________')\n",
    "print(z2)\n",
    "print('___________dstack____________')\n",
    "print(z3)\n",
    "\n",
    "\n",
    "\n",
    "## Reshape\n",
    "x = np.array([[2,3,4], [5,6,7]])      \n",
    "print(np.reshape(x, (3, 2)))\n",
    "\n",
    "##flatten\n",
    "a = np.array([[1,2], [3,4]])\n",
    "a.flatten()\n",
    "\n",
    "## make a meshgrid\n",
    "x = np.linspace(0, 1.0, D)\n",
    "X_tst = np.stack([v.flatten() for v in np.meshgrid(x,x)], axis = -1)\n",
    "print('X_tst', X_tst)\n",
    "print(X_tst.shape)\n",
    "X_tst = np.expand_dims(X_tst, 1)\n",
    "print('________________________')\n",
    "print(X_tst)\n",
    "print(X_tst.shape)\n",
    "\n"
   ]
  },
  {
   "cell_type": "code",
   "execution_count": 18,
   "metadata": {},
   "outputs": [],
   "source": [
    "## (18) A simple neural network\n",
    "\n",
    "## Using moduleList"
   ]
  },
  {
   "cell_type": "code",
   "execution_count": 26,
   "metadata": {},
   "outputs": [
    {
     "name": "stdout",
     "output_type": "stream",
     "text": [
      "tensor([[1, 2],\n",
      "        [3, 4]])\n",
      "tensor([[0.3228, 0.6800],\n",
      "        [0.1000, 0.2000],\n",
      "        [0.4000, 0.3000]])\n",
      "tensor([0.0000, 0.2000, 0.4000, 0.6000, 0.8000])\n"
     ]
    }
   ],
   "source": [
    "## (19) Create a tensor in pytorch , merge\n",
    "import torch\n",
    "tensor_ex = torch.tensor([[1,2], [3,4]])\n",
    "print(tensor_ex)\n",
    "\n",
    "## Merge two tensor  (play with axis)\n",
    "randomarray1 = torch.tensor([[0.3228],[0.1000],[0.4000]])\n",
    "randomarray2 = torch.tensor([[0.68],[0.2000],[0.3000]])\n",
    "\n",
    "## Want torch.tensor([[0.3228, 0.68],[0.1000, 0.2],[0.4000, 0.3]])\n",
    "c = torch.cat([randomarray1, randomarray2], axis=1)\n",
    "print(c)\n",
    "\n",
    "\n",
    "## Max \n",
    "x =  torch.tensor([[ 0.0000, -0.2000],\n",
    "        [ 0.2000,  0.0000],\n",
    "        [ 0.4000,  0.2000],\n",
    "        [ 0.6000,  0.4000],\n",
    "        [ 0.8000,  0.6000]])\n",
    "maxinrow, indices = torch.max(x,axis=1)\n",
    "print(maxinrow)\n",
    "\n",
    "## abs \n",
    "# loss = torch.abs(loss)\n",
    "\n",
    "## Changing the dim \n",
    "\n",
    "## value in tensor\n",
    "test = torch.tensor([0.0876, 0.4050, 0.2623, 0.0228, 0.0242])\n",
    "value = torch.tensor([0.0242])\n",
    "print(value in test)\n",
    "\n",
    "test = torch.tensor([0.0876, 0.4050, 0.2623, 0.0228, 0.0242])\n",
    "value = torch.tensor([0.0241])\n",
    "print(value in test)\n",
    "\n",
    "newtest = test - value\n",
    "print(newtest)\n",
    "print(newtest <= 0.01 )\n"
   ]
  },
  {
   "cell_type": "code",
   "execution_count": 1,
   "metadata": {},
   "outputs": [
    {
     "name": "stderr",
     "output_type": "stream",
     "text": [
      "C:\\Users\\Shaily Mishra\\Anaconda3\\lib\\site-packages\\torch\\tensor.py:362: UserWarning: non-inplace resize is deprecated\n",
      "  warnings.warn(\"non-inplace resize is deprecated\")\n"
     ]
    },
    {
     "name": "stdout",
     "output_type": "stream",
     "text": [
      "torch.Size([2, 4, 5])\n",
      "torch.Size([2, 4, 5])\n",
      "tensor(True)\n"
     ]
    }
   ],
   "source": [
    "### (20) multipling tensor of more than 2 dim\n",
    "# https://stackoverflow.com/questions/50791316/dot-product-of-tensors-with-different-shapes-in-pytorch\n",
    "import torch\n",
    "\n",
    "p=torch.randn(2,3)\n",
    "q=torch.randn(3,4,5)\n",
    "\n",
    "# Solution 1: Reshaping to use 2-dimensional torch.mm()\n",
    "res1 = torch.mm(p, q.resize(3, 4 * 5)).resize_(2, 4, 5)\n",
    "print(res1.shape)\n",
    "# torch.Size([2, 4, 5])\n",
    "\n",
    "# Solution 2: Using explicit torch.einsum()\n",
    "res2 = torch.einsum(\"ab,bcd->acd\", (p, q))\n",
    "print(res2.shape)\n",
    "# torch.Size([2, 4, 5])\n",
    "\n",
    "# Checking if results are equal:\n",
    "print((res1 == res2).all())\n",
    "# tensor(1, dtype=torch.uint8)"
   ]
  },
  {
   "cell_type": "code",
   "execution_count": 1,
   "metadata": {},
   "outputs": [],
   "source": [
    "### (21) clone - list, numpy, tensor\n",
    "old_list = [1, 2, 3]\n",
    "new_list = old_list.copy()\n",
    "\n"
   ]
  },
  {
   "cell_type": "code",
   "execution_count": null,
   "metadata": {},
   "outputs": [],
   "source": []
  }
 ],
 "metadata": {
  "kernelspec": {
   "display_name": "Python 3",
   "language": "python",
   "name": "python3"
  },
  "language_info": {
   "codemirror_mode": {
    "name": "ipython",
    "version": 3
   },
   "file_extension": ".py",
   "mimetype": "text/x-python",
   "name": "python",
   "nbconvert_exporter": "python",
   "pygments_lexer": "ipython3",
   "version": "3.7.4"
  }
 },
 "nbformat": 4,
 "nbformat_minor": 2
}
